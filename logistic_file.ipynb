{
 "cells": [
  {
   "cell_type": "code",
   "execution_count": 41,
   "metadata": {
    "execution": {
     "iopub.status.busy": "2022-02-05T08:03:46.203369Z",
     "iopub.status.idle": "2022-02-05T08:03:46.204122Z",
     "shell.execute_reply": "2022-02-05T08:03:46.203964Z",
     "shell.execute_reply.started": "2022-02-05T08:03:46.203944Z"
    }
   },
   "outputs": [],
   "source": [
    "import pandas as pd\n",
    "import numpy as np\n",
    "import matplotlib.pyplot as plt\n",
    "from tensorflow.python.keras import models, layers, optimizers\n",
    "import tensorflow\n",
    "from tensorflow.keras.preprocessing.text import Tokenizer, text_to_word_sequence\n",
    "from tensorflow.keras.preprocessing.sequence import pad_sequences\n",
    "import bz2\n",
    "from sklearn.metrics import f1_score, roc_auc_score, accuracy_score\n",
    "import re\n",
    "\n",
    "%matplotlib inline"
   ]
  },
  {
   "cell_type": "markdown",
   "metadata": {},
   "source": [
    "#Creating a function to load the text and labels from train and test set"
   ]
  },
  {
   "cell_type": "code",
   "execution_count": 42,
   "metadata": {},
   "outputs": [],
   "source": [
    "import pandas as pd\n",
    "\n",
    "def get_labels_and_texts(file):\n",
    "    df = pd.read_csv(file)\n",
    "    labels = df['sentiment'].values\n",
    "    texts = df['reviews'].values\n",
    "    return labels, texts\n",
    "\n",
    "train_labels, train_texts = get_labels_and_texts('train.csv')\n",
    "test_labels, test_texts = get_labels_and_texts('test.csv')\n"
   ]
  },
  {
   "cell_type": "code",
   "execution_count": 43,
   "metadata": {
    "execution": {
     "iopub.execute_input": "2022-02-05T08:03:46.430170Z",
     "iopub.status.busy": "2022-02-05T08:03:46.429924Z",
     "iopub.status.idle": "2022-02-05T08:03:46.435341Z",
     "shell.execute_reply": "2022-02-05T08:03:46.434695Z",
     "shell.execute_reply.started": "2022-02-05T08:03:46.430144Z"
    }
   },
   "outputs": [
    {
     "data": {
      "text/plain": [
       "array([1, 0, 1, 0], dtype=int64)"
      ]
     },
     "execution_count": 43,
     "metadata": {},
     "output_type": "execute_result"
    }
   ],
   "source": [
    "train_labels[0:4]"
   ]
  },
  {
   "cell_type": "code",
   "execution_count": 44,
   "metadata": {
    "execution": {
     "iopub.execute_input": "2022-02-05T08:03:46.438853Z",
     "iopub.status.busy": "2022-02-05T08:03:46.437741Z",
     "iopub.status.idle": "2022-02-05T08:03:46.448042Z",
     "shell.execute_reply": "2022-02-05T08:03:46.447265Z",
     "shell.execute_reply.started": "2022-02-05T08:03:46.438805Z"
    }
   },
   "outputs": [
    {
     "data": {
      "text/plain": [
       "array(['worked advertised',\n",
       "       'wanted white dot white bathroom black shown knew realize cord plug black wanted white cord plug',\n",
       "       'extremely useful simple thing like spotify audible thing like doesnt answer ask nice use',\n",
       "       'brought replace moved doesnt range previous non refurbished unit seldom able find wi-fi couldnt connect got tired hearing message 34trouble connectingcheck alexa app34 unplugged went troubleshooting reconnected time strong'],\n",
       "      dtype=object)"
      ]
     },
     "execution_count": 44,
     "metadata": {},
     "output_type": "execute_result"
    }
   ],
   "source": [
    "train_texts[0:4]"
   ]
  },
  {
   "cell_type": "code",
   "execution_count": 45,
   "metadata": {
    "execution": {
     "iopub.execute_input": "2022-02-05T08:03:46.449730Z",
     "iopub.status.busy": "2022-02-05T08:03:46.449225Z",
     "iopub.status.idle": "2022-02-05T08:03:46.458580Z",
     "shell.execute_reply": "2022-02-05T08:03:46.457660Z",
     "shell.execute_reply.started": "2022-02-05T08:03:46.449700Z"
    }
   },
   "outputs": [],
   "source": [
    "# train_labels=train_labels[0:500]"
   ]
  },
  {
   "cell_type": "code",
   "execution_count": 46,
   "metadata": {
    "execution": {
     "iopub.execute_input": "2022-02-05T08:03:46.459945Z",
     "iopub.status.busy": "2022-02-05T08:03:46.459441Z",
     "iopub.status.idle": "2022-02-05T08:03:46.469546Z",
     "shell.execute_reply": "2022-02-05T08:03:46.468975Z",
     "shell.execute_reply.started": "2022-02-05T08:03:46.459916Z"
    }
   },
   "outputs": [],
   "source": [
    "# train_texts=train_texts[0:500]"
   ]
  },
  {
   "cell_type": "markdown",
   "metadata": {},
   "source": [
    "#text pre-processing"
   ]
  },
  {
   "cell_type": "code",
   "execution_count": 47,
   "metadata": {},
   "outputs": [],
   "source": [
    "import re\n",
    "\n",
    "NON_ALPHANUM = re.compile(r'[\\W]')\n",
    "NON_ASCII = re.compile(r'[^a-z0-1\\s]')\n",
    "\n",
    "def normalize_texts(texts):\n",
    "    normalized_texts = []\n",
    "    for text in texts:\n",
    "        if isinstance(text, str):  # Check if text is a string\n",
    "            lower = text.lower()\n",
    "            no_punctuation = NON_ALPHANUM.sub(r' ', lower)\n",
    "            no_non_ascii = NON_ASCII.sub(r'', no_punctuation)\n",
    "            normalized_texts.append(no_non_ascii)\n",
    "        else:\n",
    "            # Handle non-string texts here\n",
    "            # convert to strings:\n",
    "            normalized_texts.append(str(text))\n",
    "    return normalized_texts\n",
    "\n",
    "train_texts = normalize_texts(train_texts)\n",
    "test_texts = normalize_texts(test_texts)\n"
   ]
  },
  {
   "cell_type": "code",
   "execution_count": 48,
   "metadata": {
    "execution": {
     "iopub.execute_input": "2022-02-05T08:04:06.993233Z",
     "iopub.status.busy": "2022-02-05T08:04:06.993002Z",
     "iopub.status.idle": "2022-02-05T08:04:06.999080Z",
     "shell.execute_reply": "2022-02-05T08:04:06.998199Z",
     "shell.execute_reply.started": "2022-02-05T08:04:06.993203Z"
    }
   },
   "outputs": [
    {
     "data": {
      "text/plain": [
       "'worked advertised'"
      ]
     },
     "execution_count": 48,
     "metadata": {},
     "output_type": "execute_result"
    }
   ],
   "source": [
    "train_texts[0]"
   ]
  },
  {
   "cell_type": "markdown",
   "metadata": {},
   "source": [
    "#countvectorizer"
   ]
  },
  {
   "cell_type": "code",
   "execution_count": 49,
   "metadata": {
    "execution": {
     "iopub.execute_input": "2022-02-05T08:04:07.000297Z",
     "iopub.status.busy": "2022-02-05T08:04:07.000065Z",
     "iopub.status.idle": "2022-02-05T08:04:40.019955Z",
     "shell.execute_reply": "2022-02-05T08:04:40.019157Z",
     "shell.execute_reply.started": "2022-02-05T08:04:07.000265Z"
    }
   },
   "outputs": [],
   "source": [
    "from sklearn.feature_extraction.text import CountVectorizer\n",
    "\n",
    "cv = CountVectorizer(binary=True)\n",
    "cv.fit(train_texts)\n",
    "X = cv.transform(train_texts)\n",
    "X_test = cv.transform(test_texts)"
   ]
  },
  {
   "cell_type": "code",
   "execution_count": 50,
   "metadata": {
    "execution": {
     "iopub.execute_input": "2022-02-05T08:04:40.021880Z",
     "iopub.status.busy": "2022-02-05T08:04:40.020992Z",
     "iopub.status.idle": "2022-02-05T08:04:40.027941Z",
     "shell.execute_reply": "2022-02-05T08:04:40.027106Z",
     "shell.execute_reply.started": "2022-02-05T08:04:40.021813Z"
    }
   },
   "outputs": [
    {
     "data": {
      "text/plain": [
       "<945x3154 sparse matrix of type '<class 'numpy.int64'>'\n",
       "\twith 9073 stored elements in Compressed Sparse Row format>"
      ]
     },
     "execution_count": 50,
     "metadata": {},
     "output_type": "execute_result"
    }
   ],
   "source": [
    "X_test"
   ]
  },
  {
   "cell_type": "code",
   "execution_count": 51,
   "metadata": {
    "execution": {
     "iopub.execute_input": "2022-02-05T08:04:40.029368Z",
     "iopub.status.busy": "2022-02-05T08:04:40.029150Z",
     "iopub.status.idle": "2022-02-05T08:04:40.364666Z",
     "shell.execute_reply": "2022-02-05T08:04:40.363697Z",
     "shell.execute_reply.started": "2022-02-05T08:04:40.029337Z"
    }
   },
   "outputs": [
    {
     "name": "stdout",
     "output_type": "stream",
     "text": [
      "Accuracy for C=0.01: 0.9130434782608695\n",
      "Accuracy for C=0.05: 0.9148550724637681\n",
      "Accuracy for C=0.25: 0.927536231884058\n",
      "Accuracy for C=0.5: 0.9293478260869565\n",
      "Accuracy for C=1: 0.9347826086956522\n"
     ]
    }
   ],
   "source": [
    "from sklearn.linear_model import LogisticRegression\n",
    "from sklearn.metrics import accuracy_score\n",
    "from sklearn.model_selection import train_test_split\n",
    "\n",
    "\n",
    "X_train, X_val, y_train, y_val = train_test_split(\n",
    "    X, train_labels, train_size = 0.75\n",
    ")\n",
    "\n",
    "for c in [0.01, 0.05, 0.25, 0.5, 1]:\n",
    "    \n",
    "    lr = LogisticRegression(C=c)\n",
    "    lr.fit(X_train, y_train)\n",
    "    print (\"Accuracy for C=%s: %s\" \n",
    "           % (c, accuracy_score(y_val, lr.predict(X_val))))"
   ]
  },
  {
   "cell_type": "code",
   "execution_count": 52,
   "metadata": {
    "execution": {
     "iopub.execute_input": "2022-02-05T08:04:40.365937Z",
     "iopub.status.busy": "2022-02-05T08:04:40.365716Z",
     "iopub.status.idle": "2022-02-05T08:04:40.372933Z",
     "shell.execute_reply": "2022-02-05T08:04:40.372019Z",
     "shell.execute_reply.started": "2022-02-05T08:04:40.365909Z"
    }
   },
   "outputs": [
    {
     "data": {
      "text/plain": [
       "array([1], dtype=int64)"
      ]
     },
     "execution_count": 52,
     "metadata": {},
     "output_type": "execute_result"
    }
   ],
   "source": [
    "lr.predict(X_test[29])"
   ]
  },
  {
   "cell_type": "code",
   "execution_count": 53,
   "metadata": {
    "execution": {
     "iopub.execute_input": "2022-02-05T08:04:40.375548Z",
     "iopub.status.busy": "2022-02-05T08:04:40.375274Z",
     "iopub.status.idle": "2022-02-05T08:04:40.387556Z",
     "shell.execute_reply": "2022-02-05T08:04:40.386614Z",
     "shell.execute_reply.started": "2022-02-05T08:04:40.375494Z"
    }
   },
   "outputs": [
    {
     "data": {
      "text/plain": [
       "1"
      ]
     },
     "execution_count": 53,
     "metadata": {},
     "output_type": "execute_result"
    }
   ],
   "source": [
    "test_labels[29]"
   ]
  },
  {
   "cell_type": "code",
   "execution_count": 54,
   "metadata": {
    "execution": {
     "iopub.execute_input": "2022-02-05T08:04:40.388656Z",
     "iopub.status.busy": "2022-02-05T08:04:40.388406Z",
     "iopub.status.idle": "2022-02-05T08:04:40.401701Z",
     "shell.execute_reply": "2022-02-05T08:04:40.400805Z",
     "shell.execute_reply.started": "2022-02-05T08:04:40.388624Z"
    }
   },
   "outputs": [
    {
     "data": {
      "text/plain": [
       "'work amazon netflix let viewing platform like vudu shut hulu played couple minute yes directly plugged wall low power source issue checked outlet voltage issue typically answer issueover quality picture quiet user friendly platform use fix issue tv house sits bad relay like amazon product having alexa nice'"
      ]
     },
     "execution_count": 54,
     "metadata": {},
     "output_type": "execute_result"
    }
   ],
   "source": [
    "test_texts[29]"
   ]
  }
 ],
 "metadata": {
  "kernelspec": {
   "display_name": "Python 3 (ipykernel)",
   "language": "python",
   "name": "python3"
  },
  "language_info": {
   "codemirror_mode": {
    "name": "ipython",
    "version": 3
   },
   "file_extension": ".py",
   "mimetype": "text/x-python",
   "name": "python",
   "nbconvert_exporter": "python",
   "pygments_lexer": "ipython3",
   "version": "3.10.9"
  }
 },
 "nbformat": 4,
 "nbformat_minor": 4
}
