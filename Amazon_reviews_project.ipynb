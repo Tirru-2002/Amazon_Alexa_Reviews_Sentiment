{
 "cells": [
  {
   "cell_type": "code",
   "execution_count": 59,
   "id": "33408fb9",
   "metadata": {
    "_cell_guid": "b1076dfc-b9ad-4769-8c92-a6c4dae69d19",
    "_uuid": "8f2839f25d086af736a60e9eeb907d3b93b6e0e5",
    "execution": {
     "iopub.execute_input": "2022-06-15T01:48:25.778048Z",
     "iopub.status.busy": "2022-06-15T01:48:25.777145Z",
     "iopub.status.idle": "2022-06-15T01:48:38.558632Z",
     "shell.execute_reply": "2022-06-15T01:48:38.557091Z"
    },
    "id": "33408fb9",
    "papermill": {
     "duration": 12.797093,
     "end_time": "2022-06-15T01:48:38.561329",
     "exception": false,
     "start_time": "2022-06-15T01:48:25.764236",
     "status": "completed"
    },
    "tags": []
   },
   "outputs": [],
   "source": [
    "# importing libraries\n",
    "import warnings \n",
    "import pandas as pd \n",
    "import numpy as np \n",
    "import matplotlib.pyplot as plt \n",
    "import seaborn as sns\n",
    "\n",
    "import re\n",
    "import json \n",
    "import nltk\n",
    "import spacy\n",
    "import string\n",
    "import unicodedata\n",
    "from bs4 import BeautifulSoup\n",
    "from textblob import TextBlob \n",
    "from nltk.stem import WordNetLemmatizer\n",
    "\n",
    "from IPython import display \n",
    "display.set_matplotlib_formats('svg')\n",
    "warnings.filterwarnings('ignore')"
   ]
  },
  {
   "cell_type": "code",
   "execution_count": 143,
   "id": "uF-7jUCJyZLF",
   "metadata": {
    "colab": {
     "base_uri": "https://localhost:8080/"
    },
    "id": "uF-7jUCJyZLF",
    "outputId": "b16e8f94-560f-4649-f032-b44d08813b65"
   },
   "outputs": [],
   "source": [
    "#pip install nltk"
   ]
  },
  {
   "cell_type": "code",
   "execution_count": 144,
   "id": "8896e316",
   "metadata": {
    "colab": {
     "base_uri": "https://localhost:8080/",
     "height": 206
    },
    "execution": {
     "iopub.execute_input": "2022-06-15T01:48:38.587178Z",
     "iopub.status.busy": "2022-06-15T01:48:38.586218Z",
     "iopub.status.idle": "2022-06-15T01:48:38.830907Z",
     "shell.execute_reply": "2022-06-15T01:48:38.829740Z"
    },
    "id": "8896e316",
    "outputId": "a4b53147-c2f8-4136-81db-b6e5fa0be13f",
    "papermill": {
     "duration": 0.260764,
     "end_time": "2022-06-15T01:48:38.833908",
     "exception": false,
     "start_time": "2022-06-15T01:48:38.573144",
     "status": "completed"
    },
    "tags": []
   },
   "outputs": [
    {
     "data": {
      "text/html": [
       "<div>\n",
       "<style scoped>\n",
       "    .dataframe tbody tr th:only-of-type {\n",
       "        vertical-align: middle;\n",
       "    }\n",
       "\n",
       "    .dataframe tbody tr th {\n",
       "        vertical-align: top;\n",
       "    }\n",
       "\n",
       "    .dataframe thead th {\n",
       "        text-align: right;\n",
       "    }\n",
       "</style>\n",
       "<table border=\"1\" class=\"dataframe\">\n",
       "  <thead>\n",
       "    <tr style=\"text-align: right;\">\n",
       "      <th></th>\n",
       "      <th>reviews</th>\n",
       "      <th>sentiment</th>\n",
       "    </tr>\n",
       "  </thead>\n",
       "  <tbody>\n",
       "    <tr>\n",
       "      <th>0</th>\n",
       "      <td>Love my Echo!</td>\n",
       "      <td>1</td>\n",
       "    </tr>\n",
       "    <tr>\n",
       "      <th>1</th>\n",
       "      <td>Loved it!</td>\n",
       "      <td>1</td>\n",
       "    </tr>\n",
       "    <tr>\n",
       "      <th>2</th>\n",
       "      <td>Sometimes while playing a game, you can answer...</td>\n",
       "      <td>1</td>\n",
       "    </tr>\n",
       "    <tr>\n",
       "      <th>3</th>\n",
       "      <td>I have had a lot of fun with this thing. My 4 ...</td>\n",
       "      <td>1</td>\n",
       "    </tr>\n",
       "    <tr>\n",
       "      <th>4</th>\n",
       "      <td>Music</td>\n",
       "      <td>1</td>\n",
       "    </tr>\n",
       "  </tbody>\n",
       "</table>\n",
       "</div>"
      ],
      "text/plain": [
       "                                             reviews  sentiment\n",
       "0                                      Love my Echo!          1\n",
       "1                                          Loved it!          1\n",
       "2  Sometimes while playing a game, you can answer...          1\n",
       "3  I have had a lot of fun with this thing. My 4 ...          1\n",
       "4                                              Music          1"
      ]
     },
     "execution_count": 144,
     "metadata": {},
     "output_type": "execute_result"
    }
   ],
   "source": [
    "# load the data \n",
    "data = pd.read_csv(r'D:\\project\\major project verzeo\\amazon_alexa.csv')\n",
    "data.head()"
   ]
  },
  {
   "cell_type": "markdown",
   "id": "0e40d3e4",
   "metadata": {
    "id": "0e40d3e4",
    "papermill": {
     "duration": 0.01346,
     "end_time": "2022-06-15T01:48:38.859991",
     "exception": false,
     "start_time": "2022-06-15T01:48:38.846531",
     "status": "completed"
    },
    "tags": []
   },
   "source": [
    "Here, we are going to use only 2 columns Independent(reviewText) and Dependent(rating). Let's ignore all other columns.  "
   ]
  },
  {
   "cell_type": "code",
   "execution_count": 145,
   "id": "bc199b52",
   "metadata": {
    "colab": {
     "base_uri": "https://localhost:8080/",
     "height": 206
    },
    "execution": {
     "iopub.execute_input": "2022-06-15T01:48:38.886763Z",
     "iopub.status.busy": "2022-06-15T01:48:38.885974Z",
     "iopub.status.idle": "2022-06-15T01:48:38.903405Z",
     "shell.execute_reply": "2022-06-15T01:48:38.902504Z"
    },
    "id": "bc199b52",
    "outputId": "ebb78664-6927-4166-eaff-48f8d4facfa0",
    "papermill": {
     "duration": 0.033222,
     "end_time": "2022-06-15T01:48:38.905734",
     "exception": false,
     "start_time": "2022-06-15T01:48:38.872512",
     "status": "completed"
    },
    "tags": []
   },
   "outputs": [
    {
     "data": {
      "text/html": [
       "<div>\n",
       "<style scoped>\n",
       "    .dataframe tbody tr th:only-of-type {\n",
       "        vertical-align: middle;\n",
       "    }\n",
       "\n",
       "    .dataframe tbody tr th {\n",
       "        vertical-align: top;\n",
       "    }\n",
       "\n",
       "    .dataframe thead th {\n",
       "        text-align: right;\n",
       "    }\n",
       "</style>\n",
       "<table border=\"1\" class=\"dataframe\">\n",
       "  <thead>\n",
       "    <tr style=\"text-align: right;\">\n",
       "      <th></th>\n",
       "      <th>reviews</th>\n",
       "      <th>sentiment</th>\n",
       "    </tr>\n",
       "  </thead>\n",
       "  <tbody>\n",
       "    <tr>\n",
       "      <th>0</th>\n",
       "      <td>Love my Echo!</td>\n",
       "      <td>1</td>\n",
       "    </tr>\n",
       "    <tr>\n",
       "      <th>1</th>\n",
       "      <td>Loved it!</td>\n",
       "      <td>1</td>\n",
       "    </tr>\n",
       "    <tr>\n",
       "      <th>2</th>\n",
       "      <td>Sometimes while playing a game, you can answer...</td>\n",
       "      <td>1</td>\n",
       "    </tr>\n",
       "    <tr>\n",
       "      <th>3</th>\n",
       "      <td>I have had a lot of fun with this thing. My 4 ...</td>\n",
       "      <td>1</td>\n",
       "    </tr>\n",
       "    <tr>\n",
       "      <th>4</th>\n",
       "      <td>Music</td>\n",
       "      <td>1</td>\n",
       "    </tr>\n",
       "    <tr>\n",
       "      <th>...</th>\n",
       "      <td>...</td>\n",
       "      <td>...</td>\n",
       "    </tr>\n",
       "    <tr>\n",
       "      <th>3145</th>\n",
       "      <td>Perfect for kids, adults and everyone in betwe...</td>\n",
       "      <td>1</td>\n",
       "    </tr>\n",
       "    <tr>\n",
       "      <th>3146</th>\n",
       "      <td>Listening to music, searching locations, check...</td>\n",
       "      <td>1</td>\n",
       "    </tr>\n",
       "    <tr>\n",
       "      <th>3147</th>\n",
       "      <td>I do love these things, i have them running my...</td>\n",
       "      <td>1</td>\n",
       "    </tr>\n",
       "    <tr>\n",
       "      <th>3148</th>\n",
       "      <td>Only complaint I have is that the sound qualit...</td>\n",
       "      <td>1</td>\n",
       "    </tr>\n",
       "    <tr>\n",
       "      <th>3149</th>\n",
       "      <td>Good</td>\n",
       "      <td>1</td>\n",
       "    </tr>\n",
       "  </tbody>\n",
       "</table>\n",
       "<p>3150 rows × 2 columns</p>\n",
       "</div>"
      ],
      "text/plain": [
       "                                                reviews  sentiment\n",
       "0                                         Love my Echo!          1\n",
       "1                                             Loved it!          1\n",
       "2     Sometimes while playing a game, you can answer...          1\n",
       "3     I have had a lot of fun with this thing. My 4 ...          1\n",
       "4                                                 Music          1\n",
       "...                                                 ...        ...\n",
       "3145  Perfect for kids, adults and everyone in betwe...          1\n",
       "3146  Listening to music, searching locations, check...          1\n",
       "3147  I do love these things, i have them running my...          1\n",
       "3148  Only complaint I have is that the sound qualit...          1\n",
       "3149                                               Good          1\n",
       "\n",
       "[3150 rows x 2 columns]"
      ]
     },
     "execution_count": 145,
     "metadata": {},
     "output_type": "execute_result"
    }
   ],
   "source": [
    "# selection columns! \n",
    "data = data[['reviews', 'sentiment']]\n",
    "data"
   ]
  },
  {
   "cell_type": "code",
   "execution_count": 146,
   "id": "bc2acbcd",
   "metadata": {
    "colab": {
     "base_uri": "https://localhost:8080/"
    },
    "execution": {
     "iopub.execute_input": "2022-06-15T01:48:38.932455Z",
     "iopub.status.busy": "2022-06-15T01:48:38.932014Z",
     "iopub.status.idle": "2022-06-15T01:48:38.937514Z",
     "shell.execute_reply": "2022-06-15T01:48:38.936757Z"
    },
    "id": "bc2acbcd",
    "outputId": "74ed18b9-b39f-4e89-8d1f-f3d1e5f74723",
    "papermill": {
     "duration": 0.0219,
     "end_time": "2022-06-15T01:48:38.939829",
     "exception": false,
     "start_time": "2022-06-15T01:48:38.917929",
     "status": "completed"
    },
    "tags": []
   },
   "outputs": [
    {
     "data": {
      "text/plain": [
       "1    2893\n",
       "0     257\n",
       "Name: sentiment, dtype: int64"
      ]
     },
     "execution_count": 146,
     "metadata": {},
     "output_type": "execute_result"
    }
   ],
   "source": [
    "# check the shape\n",
    "data['sentiment'].value_counts()"
   ]
  },
  {
   "cell_type": "code",
   "execution_count": 147,
   "id": "7690f547",
   "metadata": {
    "colab": {
     "base_uri": "https://localhost:8080/"
    },
    "execution": {
     "iopub.execute_input": "2022-06-15T01:48:38.970335Z",
     "iopub.status.busy": "2022-06-15T01:48:38.969686Z",
     "iopub.status.idle": "2022-06-15T01:48:38.980658Z",
     "shell.execute_reply": "2022-06-15T01:48:38.979697Z"
    },
    "id": "7690f547",
    "outputId": "c1b9071e-10ec-465d-b895-a143283d9c1e",
    "papermill": {
     "duration": 0.028647,
     "end_time": "2022-06-15T01:48:38.982794",
     "exception": false,
     "start_time": "2022-06-15T01:48:38.954147",
     "status": "completed"
    },
    "tags": []
   },
   "outputs": [
    {
     "data": {
      "text/plain": [
       "reviews      0\n",
       "sentiment    0\n",
       "dtype: int64"
      ]
     },
     "execution_count": 147,
     "metadata": {},
     "output_type": "execute_result"
    }
   ],
   "source": [
    "# check whehter it's having null values or not\n",
    "data.isnull().sum()"
   ]
  },
  {
   "cell_type": "markdown",
   "id": "7da9b35c",
   "metadata": {
    "id": "7da9b35c",
    "papermill": {
     "duration": 0.012217,
     "end_time": "2022-06-15T01:48:39.093301",
     "exception": false,
     "start_time": "2022-06-15T01:48:39.081084",
     "status": "completed"
    },
    "tags": []
   },
   "source": [
    "### Visualize words using WordCloud"
   ]
  },
  {
   "cell_type": "code",
   "execution_count": 148,
   "id": "f86d4b5b",
   "metadata": {
    "execution": {
     "iopub.execute_input": "2022-06-15T01:48:39.158096Z",
     "iopub.status.busy": "2022-06-15T01:48:39.157353Z",
     "iopub.status.idle": "2022-06-15T01:48:39.195608Z",
     "shell.execute_reply": "2022-06-15T01:48:39.194577Z"
    },
    "id": "f86d4b5b",
    "papermill": {
     "duration": 0.054587,
     "end_time": "2022-06-15T01:48:39.198089",
     "exception": false,
     "start_time": "2022-06-15T01:48:39.143502",
     "status": "completed"
    },
    "tags": []
   },
   "outputs": [],
   "source": [
    "from wordcloud import WordCloud, ImageColorGenerator\n",
    "from PIL import Image  \n",
    "\n",
    "# get the text based on ratings! \n",
    "rating_zero = data['reviews'][data['sentiment'] == 0]\n",
    "rating_one = data['reviews'][data['sentiment'] == 1]\n",
    "\n",
    "\n",
    "# word tokenize the data \n",
    "def list_tokenizer(rating): \n",
    "    ratings = \" \".join(rating)\n",
    "    ratings = nltk.word_tokenize(ratings)\n",
    "    return str(ratings)\n",
    "\n",
    "# visualizer \n",
    "def word_cloud(rating, number): \n",
    "    wc = WordCloud(background_color = 'black', max_font_size = 50, max_words = 100)  \n",
    "    wc.generate(rating)  \n",
    "    plt.figure(figsize=(10,8))\n",
    "    plt.imshow(wc, interpolation = 'bilinear')  \n",
    "    plt.title(f'WordCloud for {number}')\n",
    "    plt.axis('off');"
   ]
  },
  {
   "cell_type": "code",
   "execution_count": 149,
   "id": "YRMjl8G3ymUl",
   "metadata": {
    "colab": {
     "base_uri": "https://localhost:8080/"
    },
    "id": "YRMjl8G3ymUl",
    "outputId": "b25cbd97-e9b1-44e0-f19c-25f9094a6685"
   },
   "outputs": [],
   "source": [
    "#import nltk\n",
    "#nltk.download('punkt')"
   ]
  },
  {
   "cell_type": "markdown",
   "id": "082ed127",
   "metadata": {
    "id": "082ed127",
    "papermill": {
     "duration": 0.024412,
     "end_time": "2022-06-15T01:49:18.123272",
     "exception": false,
     "start_time": "2022-06-15T01:49:18.098860",
     "status": "completed"
    },
    "tags": []
   },
   "source": [
    "Now, we have suitable columns for model building, but before that we need to pre-process the text. Let's do that! \n",
    "\n",
    "### Pre-processing!\n",
    "If you want a quick recap on pre-processing techniques you can check the notebook [**here**](https://github.com/RAravindDS/Learny/blob/main/NLP/TextCleaning/Cleaning_text_data.ipynb)"
   ]
  },
  {
   "cell_type": "code",
   "execution_count": 150,
   "id": "a8f3c434",
   "metadata": {
    "colab": {
     "base_uri": "https://localhost:8080/",
     "height": 206
    },
    "execution": {
     "iopub.execute_input": "2022-06-15T01:49:18.174505Z",
     "iopub.status.busy": "2022-06-15T01:49:18.173749Z",
     "iopub.status.idle": "2022-06-15T01:49:18.199503Z",
     "shell.execute_reply": "2022-06-15T01:49:18.198701Z"
    },
    "id": "a8f3c434",
    "outputId": "12bc769e-8238-4199-d00e-8f348e08991f",
    "papermill": {
     "duration": 0.053742,
     "end_time": "2022-06-15T01:49:18.201384",
     "exception": false,
     "start_time": "2022-06-15T01:49:18.147642",
     "status": "completed"
    },
    "tags": []
   },
   "outputs": [
    {
     "data": {
      "text/html": [
       "<div>\n",
       "<style scoped>\n",
       "    .dataframe tbody tr th:only-of-type {\n",
       "        vertical-align: middle;\n",
       "    }\n",
       "\n",
       "    .dataframe tbody tr th {\n",
       "        vertical-align: top;\n",
       "    }\n",
       "\n",
       "    .dataframe thead th {\n",
       "        text-align: right;\n",
       "    }\n",
       "</style>\n",
       "<table border=\"1\" class=\"dataframe\">\n",
       "  <thead>\n",
       "    <tr style=\"text-align: right;\">\n",
       "      <th></th>\n",
       "      <th>reviews</th>\n",
       "      <th>sentiment</th>\n",
       "    </tr>\n",
       "  </thead>\n",
       "  <tbody>\n",
       "    <tr>\n",
       "      <th>0</th>\n",
       "      <td>love my echo!</td>\n",
       "      <td>1</td>\n",
       "    </tr>\n",
       "    <tr>\n",
       "      <th>1</th>\n",
       "      <td>loved it!</td>\n",
       "      <td>1</td>\n",
       "    </tr>\n",
       "    <tr>\n",
       "      <th>2</th>\n",
       "      <td>sometimes while playing a game, you can answer...</td>\n",
       "      <td>1</td>\n",
       "    </tr>\n",
       "    <tr>\n",
       "      <th>3</th>\n",
       "      <td>i have had a lot of fun with this thing. my 4 ...</td>\n",
       "      <td>1</td>\n",
       "    </tr>\n",
       "    <tr>\n",
       "      <th>4</th>\n",
       "      <td>music</td>\n",
       "      <td>1</td>\n",
       "    </tr>\n",
       "  </tbody>\n",
       "</table>\n",
       "</div>"
      ],
      "text/plain": [
       "                                             reviews  sentiment\n",
       "0                                      love my echo!          1\n",
       "1                                          loved it!          1\n",
       "2  sometimes while playing a game, you can answer...          1\n",
       "3  i have had a lot of fun with this thing. my 4 ...          1\n",
       "4                                              music          1"
      ]
     },
     "execution_count": 150,
     "metadata": {},
     "output_type": "execute_result"
    }
   ],
   "source": [
    "# 1. lowering case \n",
    "data['reviews'] = data['reviews'].str.lower()  # lowering the case! \n",
    "data.head()"
   ]
  },
  {
   "cell_type": "code",
   "execution_count": 151,
   "id": "5a65dea3",
   "metadata": {
    "colab": {
     "base_uri": "https://localhost:8080/",
     "height": 206
    },
    "execution": {
     "iopub.execute_input": "2022-06-15T01:49:18.246992Z",
     "iopub.status.busy": "2022-06-15T01:49:18.246312Z",
     "iopub.status.idle": "2022-06-15T01:49:18.578369Z",
     "shell.execute_reply": "2022-06-15T01:49:18.577689Z"
    },
    "id": "5a65dea3",
    "outputId": "d35726aa-363d-40e9-bcc9-c23e63857e32",
    "papermill": {
     "duration": 0.357127,
     "end_time": "2022-06-15T01:49:18.580315",
     "exception": false,
     "start_time": "2022-06-15T01:49:18.223188",
     "status": "completed"
    },
    "tags": []
   },
   "outputs": [
    {
     "data": {
      "text/html": [
       "<div>\n",
       "<style scoped>\n",
       "    .dataframe tbody tr th:only-of-type {\n",
       "        vertical-align: middle;\n",
       "    }\n",
       "\n",
       "    .dataframe tbody tr th {\n",
       "        vertical-align: top;\n",
       "    }\n",
       "\n",
       "    .dataframe thead th {\n",
       "        text-align: right;\n",
       "    }\n",
       "</style>\n",
       "<table border=\"1\" class=\"dataframe\">\n",
       "  <thead>\n",
       "    <tr style=\"text-align: right;\">\n",
       "      <th></th>\n",
       "      <th>reviews</th>\n",
       "      <th>sentiment</th>\n",
       "    </tr>\n",
       "  </thead>\n",
       "  <tbody>\n",
       "    <tr>\n",
       "      <th>0</th>\n",
       "      <td>love my echo</td>\n",
       "      <td>1</td>\n",
       "    </tr>\n",
       "    <tr>\n",
       "      <th>1</th>\n",
       "      <td>loved it</td>\n",
       "      <td>1</td>\n",
       "    </tr>\n",
       "    <tr>\n",
       "      <th>2</th>\n",
       "      <td>sometimes while playing a game you can answer ...</td>\n",
       "      <td>1</td>\n",
       "    </tr>\n",
       "    <tr>\n",
       "      <th>3</th>\n",
       "      <td>i have had a lot of fun with this thing my 4 y...</td>\n",
       "      <td>1</td>\n",
       "    </tr>\n",
       "    <tr>\n",
       "      <th>4</th>\n",
       "      <td>music</td>\n",
       "      <td>1</td>\n",
       "    </tr>\n",
       "  </tbody>\n",
       "</table>\n",
       "</div>"
      ],
      "text/plain": [
       "                                             reviews  sentiment\n",
       "0                                       love my echo          1\n",
       "1                                           loved it          1\n",
       "2  sometimes while playing a game you can answer ...          1\n",
       "3  i have had a lot of fun with this thing my 4 y...          1\n",
       "4                                              music          1"
      ]
     },
     "execution_count": 151,
     "metadata": {},
     "output_type": "execute_result"
    }
   ],
   "source": [
    "# 2. remove punctuation! \n",
    "data['reviews'] = data['reviews'].apply(lambda x: re.sub('[^a-z A-Z 0-9-]+', '', x))  # it removes the punctuation \n",
    "data.head()"
   ]
  },
  {
   "cell_type": "code",
   "execution_count": 152,
   "id": "6138667d",
   "metadata": {
    "colab": {
     "base_uri": "https://localhost:8080/",
     "height": 206
    },
    "execution": {
     "iopub.execute_input": "2022-06-15T01:49:18.626770Z",
     "iopub.status.busy": "2022-06-15T01:49:18.626086Z",
     "iopub.status.idle": "2022-06-15T01:49:18.908175Z",
     "shell.execute_reply": "2022-06-15T01:49:18.907234Z"
    },
    "id": "6138667d",
    "outputId": "8d4b9825-defc-4b59-eb98-754d3dc81a14",
    "papermill": {
     "duration": 0.307821,
     "end_time": "2022-06-15T01:49:18.910397",
     "exception": false,
     "start_time": "2022-06-15T01:49:18.602576",
     "status": "completed"
    },
    "tags": []
   },
   "outputs": [
    {
     "data": {
      "text/html": [
       "<div>\n",
       "<style scoped>\n",
       "    .dataframe tbody tr th:only-of-type {\n",
       "        vertical-align: middle;\n",
       "    }\n",
       "\n",
       "    .dataframe tbody tr th {\n",
       "        vertical-align: top;\n",
       "    }\n",
       "\n",
       "    .dataframe thead th {\n",
       "        text-align: right;\n",
       "    }\n",
       "</style>\n",
       "<table border=\"1\" class=\"dataframe\">\n",
       "  <thead>\n",
       "    <tr style=\"text-align: right;\">\n",
       "      <th></th>\n",
       "      <th>reviews</th>\n",
       "      <th>sentiment</th>\n",
       "    </tr>\n",
       "  </thead>\n",
       "  <tbody>\n",
       "    <tr>\n",
       "      <th>0</th>\n",
       "      <td>love echo</td>\n",
       "      <td>1</td>\n",
       "    </tr>\n",
       "    <tr>\n",
       "      <th>1</th>\n",
       "      <td>loved</td>\n",
       "      <td>1</td>\n",
       "    </tr>\n",
       "    <tr>\n",
       "      <th>2</th>\n",
       "      <td>playing game answer question correctly alexa s...</td>\n",
       "      <td>1</td>\n",
       "    </tr>\n",
       "    <tr>\n",
       "      <th>3</th>\n",
       "      <td>lot fun thing 4 yr old learns dinosaurs contro...</td>\n",
       "      <td>1</td>\n",
       "    </tr>\n",
       "    <tr>\n",
       "      <th>4</th>\n",
       "      <td>music</td>\n",
       "      <td>1</td>\n",
       "    </tr>\n",
       "  </tbody>\n",
       "</table>\n",
       "</div>"
      ],
      "text/plain": [
       "                                             reviews  sentiment\n",
       "0                                          love echo          1\n",
       "1                                              loved          1\n",
       "2  playing game answer question correctly alexa s...          1\n",
       "3  lot fun thing 4 yr old learns dinosaurs contro...          1\n",
       "4                                              music          1"
      ]
     },
     "execution_count": 152,
     "metadata": {},
     "output_type": "execute_result"
    }
   ],
   "source": [
    "# 3. remove stopwords! (you can check the notebook, if you have any doubt)\n",
    "\n",
    "from spacy.lang.en.stop_words import STOP_WORDS\n",
    "data['reviews'] = data['reviews'].apply(lambda x: \" \".join([i for i in x.split() if i not in STOP_WORDS]) )\n",
    "\n",
    "data.head()"
   ]
  },
  {
   "cell_type": "code",
   "execution_count": 153,
   "id": "8498f026",
   "metadata": {
    "colab": {
     "base_uri": "https://localhost:8080/",
     "height": 206
    },
    "execution": {
     "iopub.execute_input": "2022-06-15T01:49:18.956016Z",
     "iopub.status.busy": "2022-06-15T01:49:18.955612Z",
     "iopub.status.idle": "2022-06-15T01:49:19.101288Z",
     "shell.execute_reply": "2022-06-15T01:49:19.100522Z"
    },
    "id": "8498f026",
    "outputId": "c174db1c-c55f-4016-a715-4b8a33ad50f2",
    "papermill": {
     "duration": 0.171307,
     "end_time": "2022-06-15T01:49:19.103322",
     "exception": false,
     "start_time": "2022-06-15T01:49:18.932015",
     "status": "completed"
    },
    "tags": []
   },
   "outputs": [
    {
     "data": {
      "text/html": [
       "<div>\n",
       "<style scoped>\n",
       "    .dataframe tbody tr th:only-of-type {\n",
       "        vertical-align: middle;\n",
       "    }\n",
       "\n",
       "    .dataframe tbody tr th {\n",
       "        vertical-align: top;\n",
       "    }\n",
       "\n",
       "    .dataframe thead th {\n",
       "        text-align: right;\n",
       "    }\n",
       "</style>\n",
       "<table border=\"1\" class=\"dataframe\">\n",
       "  <thead>\n",
       "    <tr style=\"text-align: right;\">\n",
       "      <th></th>\n",
       "      <th>reviews</th>\n",
       "      <th>sentiment</th>\n",
       "    </tr>\n",
       "  </thead>\n",
       "  <tbody>\n",
       "    <tr>\n",
       "      <th>0</th>\n",
       "      <td>love echo</td>\n",
       "      <td>1</td>\n",
       "    </tr>\n",
       "    <tr>\n",
       "      <th>1</th>\n",
       "      <td>loved</td>\n",
       "      <td>1</td>\n",
       "    </tr>\n",
       "    <tr>\n",
       "      <th>2</th>\n",
       "      <td>playing game answer question correctly alexa s...</td>\n",
       "      <td>1</td>\n",
       "    </tr>\n",
       "    <tr>\n",
       "      <th>3</th>\n",
       "      <td>lot fun thing 4 yr old learns dinosaurs contro...</td>\n",
       "      <td>1</td>\n",
       "    </tr>\n",
       "    <tr>\n",
       "      <th>4</th>\n",
       "      <td>music</td>\n",
       "      <td>1</td>\n",
       "    </tr>\n",
       "  </tbody>\n",
       "</table>\n",
       "</div>"
      ],
      "text/plain": [
       "                                             reviews  sentiment\n",
       "0                                          love echo          1\n",
       "1                                              loved          1\n",
       "2  playing game answer question correctly alexa s...          1\n",
       "3  lot fun thing 4 yr old learns dinosaurs contro...          1\n",
       "4                                              music          1"
      ]
     },
     "execution_count": 153,
     "metadata": {},
     "output_type": "execute_result"
    }
   ],
   "source": [
    "# 4. remove url and tags! \n",
    "data['reviews'] = data['reviews'].apply(lambda x: re.sub(r'(http|https|ftp|ssh)://([\\w_-]+(?:(?:\\.[\\w_-]+)+))([\\w.,@?^=%&:/~+#-]*[\\w@?^=%&/~+#-])?', '' , str(x)))\n",
    "                                              \n",
    "data.head()"
   ]
  },
  {
   "cell_type": "code",
   "execution_count": 154,
   "id": "c4b7b2a0",
   "metadata": {
    "colab": {
     "base_uri": "https://localhost:8080/",
     "height": 206
    },
    "execution": {
     "iopub.execute_input": "2022-06-15T01:49:19.151800Z",
     "iopub.status.busy": "2022-06-15T01:49:19.151226Z",
     "iopub.status.idle": "2022-06-15T01:49:21.593927Z",
     "shell.execute_reply": "2022-06-15T01:49:21.592854Z"
    },
    "id": "c4b7b2a0",
    "outputId": "a5fe886c-ce3e-4b49-ec64-497ea822c8ec",
    "papermill": {
     "duration": 2.471046,
     "end_time": "2022-06-15T01:49:21.596649",
     "exception": false,
     "start_time": "2022-06-15T01:49:19.125603",
     "status": "completed"
    },
    "tags": []
   },
   "outputs": [
    {
     "data": {
      "text/html": [
       "<div>\n",
       "<style scoped>\n",
       "    .dataframe tbody tr th:only-of-type {\n",
       "        vertical-align: middle;\n",
       "    }\n",
       "\n",
       "    .dataframe tbody tr th {\n",
       "        vertical-align: top;\n",
       "    }\n",
       "\n",
       "    .dataframe thead th {\n",
       "        text-align: right;\n",
       "    }\n",
       "</style>\n",
       "<table border=\"1\" class=\"dataframe\">\n",
       "  <thead>\n",
       "    <tr style=\"text-align: right;\">\n",
       "      <th></th>\n",
       "      <th>reviews</th>\n",
       "      <th>sentiment</th>\n",
       "    </tr>\n",
       "  </thead>\n",
       "  <tbody>\n",
       "    <tr>\n",
       "      <th>0</th>\n",
       "      <td>love echo</td>\n",
       "      <td>1</td>\n",
       "    </tr>\n",
       "    <tr>\n",
       "      <th>1</th>\n",
       "      <td>loved</td>\n",
       "      <td>1</td>\n",
       "    </tr>\n",
       "    <tr>\n",
       "      <th>2</th>\n",
       "      <td>playing game answer question correctly alexa s...</td>\n",
       "      <td>1</td>\n",
       "    </tr>\n",
       "    <tr>\n",
       "      <th>3</th>\n",
       "      <td>lot fun thing 4 yr old learns dinosaurs contro...</td>\n",
       "      <td>1</td>\n",
       "    </tr>\n",
       "    <tr>\n",
       "      <th>4</th>\n",
       "      <td>music</td>\n",
       "      <td>1</td>\n",
       "    </tr>\n",
       "  </tbody>\n",
       "</table>\n",
       "</div>"
      ],
      "text/plain": [
       "                                             reviews  sentiment\n",
       "0                                          love echo          1\n",
       "1                                              loved          1\n",
       "2  playing game answer question correctly alexa s...          1\n",
       "3  lot fun thing 4 yr old learns dinosaurs contro...          1\n",
       "4                                              music          1"
      ]
     },
     "execution_count": 154,
     "metadata": {},
     "output_type": "execute_result"
    }
   ],
   "source": [
    "# 5. remove html tags! \n",
    "data['reviews'] = data['reviews'].apply(lambda x: BeautifulSoup(x, 'lxml').get_text())\n",
    "\n",
    "data.head()"
   ]
  },
  {
   "cell_type": "code",
   "execution_count": 155,
   "id": "78741c96",
   "metadata": {
    "execution": {
     "iopub.execute_input": "2022-06-15T01:49:21.695638Z",
     "iopub.status.busy": "2022-06-15T01:49:21.694941Z",
     "iopub.status.idle": "2022-06-15T01:49:22.101132Z",
     "shell.execute_reply": "2022-06-15T01:49:22.100014Z"
    },
    "id": "78741c96",
    "papermill": {
     "duration": 0.432192,
     "end_time": "2022-06-15T01:49:22.103600",
     "exception": false,
     "start_time": "2022-06-15T01:49:21.671408",
     "status": "completed"
    },
    "tags": []
   },
   "outputs": [],
   "source": [
    "# 7. remove emails \n",
    "data['reviews'] = data['reviews'].apply(lambda x: re.sub(r'([a-z0-9+._-]+@[a-z0-9+._-]+\\.[a-z0-9+_-]+\\b)', '', x))  # it will remove te emails "
   ]
  },
  {
   "cell_type": "code",
   "execution_count": 156,
   "id": "6befc7b1",
   "metadata": {
    "colab": {
     "base_uri": "https://localhost:8080/",
     "height": 206
    },
    "execution": {
     "iopub.execute_input": "2022-06-15T01:49:22.153328Z",
     "iopub.status.busy": "2022-06-15T01:49:22.152746Z",
     "iopub.status.idle": "2022-06-15T01:49:22.239728Z",
     "shell.execute_reply": "2022-06-15T01:49:22.238699Z"
    },
    "id": "6befc7b1",
    "outputId": "0cdd199c-c751-49f5-d2c4-f6ec649bed68",
    "papermill": {
     "duration": 0.114965,
     "end_time": "2022-06-15T01:49:22.242152",
     "exception": false,
     "start_time": "2022-06-15T01:49:22.127187",
     "status": "completed"
    },
    "tags": []
   },
   "outputs": [
    {
     "data": {
      "text/html": [
       "<div>\n",
       "<style scoped>\n",
       "    .dataframe tbody tr th:only-of-type {\n",
       "        vertical-align: middle;\n",
       "    }\n",
       "\n",
       "    .dataframe tbody tr th {\n",
       "        vertical-align: top;\n",
       "    }\n",
       "\n",
       "    .dataframe thead th {\n",
       "        text-align: right;\n",
       "    }\n",
       "</style>\n",
       "<table border=\"1\" class=\"dataframe\">\n",
       "  <thead>\n",
       "    <tr style=\"text-align: right;\">\n",
       "      <th></th>\n",
       "      <th>reviews</th>\n",
       "      <th>sentiment</th>\n",
       "    </tr>\n",
       "  </thead>\n",
       "  <tbody>\n",
       "    <tr>\n",
       "      <th>0</th>\n",
       "      <td>love echo</td>\n",
       "      <td>1</td>\n",
       "    </tr>\n",
       "    <tr>\n",
       "      <th>1</th>\n",
       "      <td>loved</td>\n",
       "      <td>1</td>\n",
       "    </tr>\n",
       "    <tr>\n",
       "      <th>2</th>\n",
       "      <td>playing game answer question correctly alexa s...</td>\n",
       "      <td>1</td>\n",
       "    </tr>\n",
       "    <tr>\n",
       "      <th>3</th>\n",
       "      <td>lot fun thing 4 yr old learns dinosaurs contro...</td>\n",
       "      <td>1</td>\n",
       "    </tr>\n",
       "    <tr>\n",
       "      <th>4</th>\n",
       "      <td>music</td>\n",
       "      <td>1</td>\n",
       "    </tr>\n",
       "  </tbody>\n",
       "</table>\n",
       "</div>"
      ],
      "text/plain": [
       "                                             reviews  sentiment\n",
       "0                                          love echo          1\n",
       "1                                              loved          1\n",
       "2  playing game answer question correctly alexa s...          1\n",
       "3  lot fun thing 4 yr old learns dinosaurs contro...          1\n",
       "4                                              music          1"
      ]
     },
     "execution_count": 156,
     "metadata": {},
     "output_type": "execute_result"
    }
   ],
   "source": [
    "# 8. remove extra spaces\n",
    "data['reviews'] = data['reviews'].apply(lambda x: \" \".join(x.split()))\n",
    "data.head()"
   ]
  },
  {
   "cell_type": "code",
   "execution_count": 157,
   "id": "tJFycxeW2rrM",
   "metadata": {
    "colab": {
     "base_uri": "https://localhost:8080/"
    },
    "id": "tJFycxeW2rrM",
    "outputId": "b4a0f1c1-6778-4010-c177-6f92da7005bc"
   },
   "outputs": [],
   "source": [
    "#import nltk\n",
    "#nltk.download('wordnet')"
   ]
  },
  {
   "cell_type": "code",
   "execution_count": 158,
   "id": "dAEhiFiX2xdZ",
   "metadata": {
    "colab": {
     "base_uri": "https://localhost:8080/"
    },
    "id": "dAEhiFiX2xdZ",
    "outputId": "7c7dde00-574d-4804-f5fc-61fe0850165c"
   },
   "outputs": [],
   "source": [
    "#import nltk\n",
    "#nltk.download('omw-1.4')"
   ]
  },
  {
   "cell_type": "code",
   "execution_count": 159,
   "id": "def24dc3",
   "metadata": {
    "colab": {
     "base_uri": "https://localhost:8080/",
     "height": 241
    },
    "execution": {
     "iopub.execute_input": "2022-06-15T01:49:22.291633Z",
     "iopub.status.busy": "2022-06-15T01:49:22.290716Z",
     "iopub.status.idle": "2022-06-15T01:49:27.923684Z",
     "shell.execute_reply": "2022-06-15T01:49:27.922736Z"
    },
    "id": "def24dc3",
    "outputId": "a7216892-c3f5-42fd-9063-4d0f5813a2ee",
    "papermill": {
     "duration": 5.660511,
     "end_time": "2022-06-15T01:49:27.926190",
     "exception": false,
     "start_time": "2022-06-15T01:49:22.265679",
     "status": "completed"
    },
    "tags": []
   },
   "outputs": [
    {
     "name": "stdout",
     "output_type": "stream",
     "text": [
      "CPU times: total: 0 ns\n",
      "Wall time: 0 ns\n"
     ]
    },
    {
     "data": {
      "text/html": [
       "<div>\n",
       "<style scoped>\n",
       "    .dataframe tbody tr th:only-of-type {\n",
       "        vertical-align: middle;\n",
       "    }\n",
       "\n",
       "    .dataframe tbody tr th {\n",
       "        vertical-align: top;\n",
       "    }\n",
       "\n",
       "    .dataframe thead th {\n",
       "        text-align: right;\n",
       "    }\n",
       "</style>\n",
       "<table border=\"1\" class=\"dataframe\">\n",
       "  <thead>\n",
       "    <tr style=\"text-align: right;\">\n",
       "      <th></th>\n",
       "      <th>reviews</th>\n",
       "      <th>sentiment</th>\n",
       "    </tr>\n",
       "  </thead>\n",
       "  <tbody>\n",
       "    <tr>\n",
       "      <th>0</th>\n",
       "      <td>love echo</td>\n",
       "      <td>1</td>\n",
       "    </tr>\n",
       "    <tr>\n",
       "      <th>1</th>\n",
       "      <td>loved</td>\n",
       "      <td>1</td>\n",
       "    </tr>\n",
       "    <tr>\n",
       "      <th>2</th>\n",
       "      <td>playing game answer question correctly alexa s...</td>\n",
       "      <td>1</td>\n",
       "    </tr>\n",
       "    <tr>\n",
       "      <th>3</th>\n",
       "      <td>lot fun thing 4 yr old learns dinosaur control...</td>\n",
       "      <td>1</td>\n",
       "    </tr>\n",
       "    <tr>\n",
       "      <th>4</th>\n",
       "      <td>music</td>\n",
       "      <td>1</td>\n",
       "    </tr>\n",
       "  </tbody>\n",
       "</table>\n",
       "</div>"
      ],
      "text/plain": [
       "                                             reviews  sentiment\n",
       "0                                          love echo          1\n",
       "1                                              loved          1\n",
       "2  playing game answer question correctly alexa s...          1\n",
       "3  lot fun thing 4 yr old learns dinosaur control...          1\n",
       "4                                              music          1"
      ]
     },
     "execution_count": 159,
     "metadata": {},
     "output_type": "execute_result"
    }
   ],
   "source": [
    "# 9. lemmatizer \n",
    "\n",
    "%time\n",
    "lemmatizer = WordNetLemmatizer()\n",
    "def lemmatize_words(text):\n",
    "    return \" \".join([lemmatizer.lemmatize(word) for word in text.split()])\n",
    "\n",
    "data[\"reviews\"] = data[\"reviews\"].apply(lambda text: lemmatize_words(text))\n",
    "data.head()"
   ]
  },
  {
   "cell_type": "markdown",
   "id": "196f83ed",
   "metadata": {
    "id": "196f83ed",
    "papermill": {
     "duration": 0.024116,
     "end_time": "2022-06-15T01:49:27.972975",
     "exception": false,
     "start_time": "2022-06-15T01:49:27.948859",
     "status": "completed"
    },
    "tags": []
   },
   "source": [
    "### Text to Words\n",
    "\n",
    "Now, we have pre-processed the file, let's start the model buidling. \n",
    "\n",
    "But before model building, we need to convert the text to numbers. So, let's do this by two methods `BOW` & `TF-IDF`~\n",
    "\n",
    "\n",
    "#### 1. Bag of Words \n",
    "If you have any doubt check our [**notebook**](https://github.com/RAravindDS/Learny/blob/main/NLP/BagofWords.ipynb)\n",
    "\n",
    "But before this, let's split the data!"
   ]
  },
  {
   "cell_type": "code",
   "execution_count": 160,
   "id": "d51a40de",
   "metadata": {
    "execution": {
     "iopub.execute_input": "2022-06-15T01:49:28.023058Z",
     "iopub.status.busy": "2022-06-15T01:49:28.022620Z",
     "iopub.status.idle": "2022-06-15T01:49:28.030834Z",
     "shell.execute_reply": "2022-06-15T01:49:28.029829Z"
    },
    "id": "d51a40de",
    "papermill": {
     "duration": 0.036569,
     "end_time": "2022-06-15T01:49:28.033044",
     "exception": false,
     "start_time": "2022-06-15T01:49:27.996475",
     "status": "completed"
    },
    "tags": []
   },
   "outputs": [],
   "source": [
    "# data split \n",
    "from sklearn.model_selection import train_test_split \n",
    "xtrain, xtest, ytrain, ytest = train_test_split(data['reviews'], data['sentiment'], test_size = 0.3)"
   ]
  },
  {
   "cell_type": "code",
   "execution_count": 161,
   "id": "1f8be5a9",
   "metadata": {},
   "outputs": [
    {
     "data": {
      "text/html": [
       "<div>\n",
       "<style scoped>\n",
       "    .dataframe tbody tr th:only-of-type {\n",
       "        vertical-align: middle;\n",
       "    }\n",
       "\n",
       "    .dataframe tbody tr th {\n",
       "        vertical-align: top;\n",
       "    }\n",
       "\n",
       "    .dataframe thead th {\n",
       "        text-align: right;\n",
       "    }\n",
       "</style>\n",
       "<table border=\"1\" class=\"dataframe\">\n",
       "  <thead>\n",
       "    <tr style=\"text-align: right;\">\n",
       "      <th></th>\n",
       "      <th>reviews</th>\n",
       "      <th>sentiment</th>\n",
       "    </tr>\n",
       "  </thead>\n",
       "  <tbody>\n",
       "    <tr>\n",
       "      <th>2263</th>\n",
       "      <td>worked advertised</td>\n",
       "      <td>1</td>\n",
       "    </tr>\n",
       "    <tr>\n",
       "      <th>653</th>\n",
       "      <td>wanted white dot white bathroom black shown kn...</td>\n",
       "      <td>0</td>\n",
       "    </tr>\n",
       "    <tr>\n",
       "      <th>993</th>\n",
       "      <td>extremely useful simple thing like spotify aud...</td>\n",
       "      <td>1</td>\n",
       "    </tr>\n",
       "    <tr>\n",
       "      <th>620</th>\n",
       "      <td>brought replace moved doesnt range previous no...</td>\n",
       "      <td>0</td>\n",
       "    </tr>\n",
       "    <tr>\n",
       "      <th>965</th>\n",
       "      <td>wanting bought prime day absolutely love</td>\n",
       "      <td>1</td>\n",
       "    </tr>\n",
       "    <tr>\n",
       "      <th>...</th>\n",
       "      <td>...</td>\n",
       "      <td>...</td>\n",
       "    </tr>\n",
       "    <tr>\n",
       "      <th>1782</th>\n",
       "      <td>far fun use learn deal alexa learning finding ...</td>\n",
       "      <td>1</td>\n",
       "    </tr>\n",
       "    <tr>\n",
       "      <th>752</th>\n",
       "      <td>great sound easy set</td>\n",
       "      <td>1</td>\n",
       "    </tr>\n",
       "    <tr>\n",
       "      <th>1464</th>\n",
       "      <td>love echo awesome speaker love fact listen mus...</td>\n",
       "      <td>1</td>\n",
       "    </tr>\n",
       "    <tr>\n",
       "      <th>2019</th>\n",
       "      <td></td>\n",
       "      <td>0</td>\n",
       "    </tr>\n",
       "    <tr>\n",
       "      <th>2798</th>\n",
       "      <td>good</td>\n",
       "      <td>1</td>\n",
       "    </tr>\n",
       "  </tbody>\n",
       "</table>\n",
       "<p>2205 rows × 2 columns</p>\n",
       "</div>"
      ],
      "text/plain": [
       "                                                reviews  sentiment\n",
       "2263                                  worked advertised          1\n",
       "653   wanted white dot white bathroom black shown kn...          0\n",
       "993   extremely useful simple thing like spotify aud...          1\n",
       "620   brought replace moved doesnt range previous no...          0\n",
       "965            wanting bought prime day absolutely love          1\n",
       "...                                                 ...        ...\n",
       "1782  far fun use learn deal alexa learning finding ...          1\n",
       "752                                great sound easy set          1\n",
       "1464  love echo awesome speaker love fact listen mus...          1\n",
       "2019                                                             0\n",
       "2798                                               good          1\n",
       "\n",
       "[2205 rows x 2 columns]"
      ]
     },
     "execution_count": 161,
     "metadata": {},
     "output_type": "execute_result"
    }
   ],
   "source": [
    "train = pd.DataFrame(xtrain,columns=['reviews'])\n",
    "trainx = pd.DataFrame(ytrain,columns=['sentiment'])\n",
    "train['sentiment'] = trainx\n",
    "train"
   ]
  },
  {
   "cell_type": "code",
   "execution_count": 163,
   "id": "3e5ff8b3",
   "metadata": {},
   "outputs": [
    {
     "data": {
      "text/html": [
       "<div>\n",
       "<style scoped>\n",
       "    .dataframe tbody tr th:only-of-type {\n",
       "        vertical-align: middle;\n",
       "    }\n",
       "\n",
       "    .dataframe tbody tr th {\n",
       "        vertical-align: top;\n",
       "    }\n",
       "\n",
       "    .dataframe thead th {\n",
       "        text-align: right;\n",
       "    }\n",
       "</style>\n",
       "<table border=\"1\" class=\"dataframe\">\n",
       "  <thead>\n",
       "    <tr style=\"text-align: right;\">\n",
       "      <th></th>\n",
       "      <th>reviews</th>\n",
       "      <th>sentiment</th>\n",
       "    </tr>\n",
       "  </thead>\n",
       "  <tbody>\n",
       "    <tr>\n",
       "      <th>995</th>\n",
       "      <td>getting use echo shopping list listening music...</td>\n",
       "      <td>1</td>\n",
       "    </tr>\n",
       "    <tr>\n",
       "      <th>598</th>\n",
       "      <td>cant figure use</td>\n",
       "      <td>0</td>\n",
       "    </tr>\n",
       "    <tr>\n",
       "      <th>783</th>\n",
       "      <td>echo work able sync amazon music device</td>\n",
       "      <td>1</td>\n",
       "    </tr>\n",
       "    <tr>\n",
       "      <th>2225</th>\n",
       "      <td>current demand stick high power coming usb por...</td>\n",
       "      <td>1</td>\n",
       "    </tr>\n",
       "    <tr>\n",
       "      <th>1071</th>\n",
       "      <td>love way designed choice face use bed drop ech...</td>\n",
       "      <td>1</td>\n",
       "    </tr>\n",
       "    <tr>\n",
       "      <th>...</th>\n",
       "      <td>...</td>\n",
       "      <td>...</td>\n",
       "    </tr>\n",
       "    <tr>\n",
       "      <th>1078</th>\n",
       "      <td>fault thought wireless price feel like sound q...</td>\n",
       "      <td>1</td>\n",
       "    </tr>\n",
       "    <tr>\n",
       "      <th>831</th>\n",
       "      <td>love</td>\n",
       "      <td>1</td>\n",
       "    </tr>\n",
       "    <tr>\n",
       "      <th>867</th>\n",
       "      <td>whats like speaker ask alexa</td>\n",
       "      <td>1</td>\n",
       "    </tr>\n",
       "    <tr>\n",
       "      <th>320</th>\n",
       "      <td>sound quality good wish alexa answer question</td>\n",
       "      <td>1</td>\n",
       "    </tr>\n",
       "    <tr>\n",
       "      <th>1588</th>\n",
       "      <td>greatest</td>\n",
       "      <td>1</td>\n",
       "    </tr>\n",
       "  </tbody>\n",
       "</table>\n",
       "<p>945 rows × 2 columns</p>\n",
       "</div>"
      ],
      "text/plain": [
       "                                                reviews  sentiment\n",
       "995   getting use echo shopping list listening music...          1\n",
       "598                                     cant figure use          0\n",
       "783             echo work able sync amazon music device          1\n",
       "2225  current demand stick high power coming usb por...          1\n",
       "1071  love way designed choice face use bed drop ech...          1\n",
       "...                                                 ...        ...\n",
       "1078  fault thought wireless price feel like sound q...          1\n",
       "831                                                love          1\n",
       "867                        whats like speaker ask alexa          1\n",
       "320       sound quality good wish alexa answer question          1\n",
       "1588                                           greatest          1\n",
       "\n",
       "[945 rows x 2 columns]"
      ]
     },
     "execution_count": 163,
     "metadata": {},
     "output_type": "execute_result"
    }
   ],
   "source": [
    "test = pd.DataFrame(xtest,columns=['reviews'])\n",
    "testy = pd.DataFrame(ytest,columns=['sentiment'])\n",
    "test['sentiment'] = testy\n",
    "test"
   ]
  },
  {
   "cell_type": "code",
   "execution_count": 166,
   "id": "20c5ce01",
   "metadata": {},
   "outputs": [],
   "source": [
    "# Save train and test DataFrames as .csv files\n",
    "train.to_csv('train.csv', index=False)\n",
    "test.to_csv('test.csv', index=False)\n"
   ]
  },
  {
   "cell_type": "code",
   "execution_count": 169,
   "id": "a3e68204",
   "metadata": {},
   "outputs": [
    {
     "data": {
      "text/html": [
       "<div>\n",
       "<style scoped>\n",
       "    .dataframe tbody tr th:only-of-type {\n",
       "        vertical-align: middle;\n",
       "    }\n",
       "\n",
       "    .dataframe tbody tr th {\n",
       "        vertical-align: top;\n",
       "    }\n",
       "\n",
       "    .dataframe thead th {\n",
       "        text-align: right;\n",
       "    }\n",
       "</style>\n",
       "<table border=\"1\" class=\"dataframe\">\n",
       "  <thead>\n",
       "    <tr style=\"text-align: right;\">\n",
       "      <th></th>\n",
       "      <th>reviews</th>\n",
       "      <th>sentiment</th>\n",
       "    </tr>\n",
       "  </thead>\n",
       "  <tbody>\n",
       "    <tr>\n",
       "      <th>0</th>\n",
       "      <td>worked advertised</td>\n",
       "      <td>1</td>\n",
       "    </tr>\n",
       "    <tr>\n",
       "      <th>1</th>\n",
       "      <td>wanted white dot white bathroom black shown kn...</td>\n",
       "      <td>0</td>\n",
       "    </tr>\n",
       "    <tr>\n",
       "      <th>2</th>\n",
       "      <td>extremely useful simple thing like spotify aud...</td>\n",
       "      <td>1</td>\n",
       "    </tr>\n",
       "    <tr>\n",
       "      <th>3</th>\n",
       "      <td>brought replace moved doesnt range previous no...</td>\n",
       "      <td>0</td>\n",
       "    </tr>\n",
       "    <tr>\n",
       "      <th>4</th>\n",
       "      <td>wanting bought prime day absolutely love</td>\n",
       "      <td>1</td>\n",
       "    </tr>\n",
       "    <tr>\n",
       "      <th>...</th>\n",
       "      <td>...</td>\n",
       "      <td>...</td>\n",
       "    </tr>\n",
       "    <tr>\n",
       "      <th>2200</th>\n",
       "      <td>far fun use learn deal alexa learning finding ...</td>\n",
       "      <td>1</td>\n",
       "    </tr>\n",
       "    <tr>\n",
       "      <th>2201</th>\n",
       "      <td>great sound easy set</td>\n",
       "      <td>1</td>\n",
       "    </tr>\n",
       "    <tr>\n",
       "      <th>2202</th>\n",
       "      <td>love echo awesome speaker love fact listen mus...</td>\n",
       "      <td>1</td>\n",
       "    </tr>\n",
       "    <tr>\n",
       "      <th>2203</th>\n",
       "      <td>NaN</td>\n",
       "      <td>0</td>\n",
       "    </tr>\n",
       "    <tr>\n",
       "      <th>2204</th>\n",
       "      <td>good</td>\n",
       "      <td>1</td>\n",
       "    </tr>\n",
       "  </tbody>\n",
       "</table>\n",
       "<p>2205 rows × 2 columns</p>\n",
       "</div>"
      ],
      "text/plain": [
       "                                                reviews  sentiment\n",
       "0                                     worked advertised          1\n",
       "1     wanted white dot white bathroom black shown kn...          0\n",
       "2     extremely useful simple thing like spotify aud...          1\n",
       "3     brought replace moved doesnt range previous no...          0\n",
       "4              wanting bought prime day absolutely love          1\n",
       "...                                                 ...        ...\n",
       "2200  far fun use learn deal alexa learning finding ...          1\n",
       "2201                               great sound easy set          1\n",
       "2202  love echo awesome speaker love fact listen mus...          1\n",
       "2203                                                NaN          0\n",
       "2204                                               good          1\n",
       "\n",
       "[2205 rows x 2 columns]"
      ]
     },
     "execution_count": 169,
     "metadata": {},
     "output_type": "execute_result"
    }
   ],
   "source": []
  },
  {
   "cell_type": "code",
   "execution_count": 116,
   "id": "33294e0e",
   "metadata": {
    "execution": {
     "iopub.execute_input": "2022-06-15T01:49:28.083567Z",
     "iopub.status.busy": "2022-06-15T01:49:28.083120Z",
     "iopub.status.idle": "2022-06-15T01:49:29.636947Z",
     "shell.execute_reply": "2022-06-15T01:49:29.635953Z"
    },
    "id": "33294e0e",
    "papermill": {
     "duration": 1.58344,
     "end_time": "2022-06-15T01:49:29.639477",
     "exception": false,
     "start_time": "2022-06-15T01:49:28.056037",
     "status": "completed"
    },
    "tags": []
   },
   "outputs": [],
   "source": [
    "# Convert text to numbers using (BOW)! \n",
    "from sklearn.feature_extraction.text import CountVectorizer\n",
    "\n",
    "vectorizer = CountVectorizer()\n",
    "\n",
    "# let's convert \n",
    "xtrain_bow = vectorizer.fit_transform(xtrain).toarray()\n",
    "xtest_bow = vectorizer.transform(xtest).toarray()\n"
   ]
  },
  {
   "cell_type": "markdown",
   "id": "04b1cda9",
   "metadata": {
    "id": "04b1cda9",
    "papermill": {
     "duration": 0.022614,
     "end_time": "2022-06-15T01:49:29.684583",
     "exception": false,
     "start_time": "2022-06-15T01:49:29.661969",
     "status": "completed"
    },
    "tags": []
   },
   "source": [
    "#### 2. TF-IDF \n",
    "\n",
    "If you have any doubt you can check our [**notebook**](https://github.com/RAravindDS/Learny/blob/main/NLP/TFIDF/TFIDF.ipynb)"
   ]
  },
  {
   "cell_type": "code",
   "execution_count": 117,
   "id": "8a7e489b",
   "metadata": {
    "execution": {
     "iopub.execute_input": "2022-06-15T01:49:29.731456Z",
     "iopub.status.busy": "2022-06-15T01:49:29.730343Z",
     "iopub.status.idle": "2022-06-15T01:49:32.168888Z",
     "shell.execute_reply": "2022-06-15T01:49:32.167915Z"
    },
    "id": "8a7e489b",
    "papermill": {
     "duration": 2.464483,
     "end_time": "2022-06-15T01:49:32.171414",
     "exception": false,
     "start_time": "2022-06-15T01:49:29.706931",
     "status": "completed"
    },
    "tags": []
   },
   "outputs": [],
   "source": [
    "# Convert text to numbers using (TF-IDF)\n",
    "from sklearn.feature_extraction.text import TfidfVectorizer  \n",
    "\n",
    "tf_vectorizer = TfidfVectorizer()\n",
    "\n",
    "# let's convert \n",
    "xtrain_tf = tf_vectorizer.fit_transform(xtrain).toarray()\n",
    "xtest_tf = tf_vectorizer.transform(xtest).toarray()"
   ]
  },
  {
   "cell_type": "markdown",
   "id": "519d6b3e",
   "metadata": {
    "id": "519d6b3e",
    "papermill": {
     "duration": 0.022653,
     "end_time": "2022-06-15T01:49:32.219306",
     "exception": false,
     "start_time": "2022-06-15T01:49:32.196653",
     "status": "completed"
    },
    "tags": []
   },
   "source": [
    "### Model Building \n",
    "\n",
    "Here, we are going to use the `Gaussina NB` model. \n",
    "\n",
    "First we will see the results for `BOW` "
   ]
  },
  {
   "cell_type": "code",
   "execution_count": 119,
   "id": "5c42203a",
   "metadata": {
    "execution": {
     "iopub.execute_input": "2022-06-15T01:49:32.265950Z",
     "iopub.status.busy": "2022-06-15T01:49:32.265544Z",
     "iopub.status.idle": "2022-06-15T01:49:45.070430Z",
     "shell.execute_reply": "2022-06-15T01:49:45.069438Z"
    },
    "id": "5c42203a",
    "papermill": {
     "duration": 12.830951,
     "end_time": "2022-06-15T01:49:45.072701",
     "exception": false,
     "start_time": "2022-06-15T01:49:32.241750",
     "status": "completed"
    },
    "tags": []
   },
   "outputs": [],
   "source": [
    "from sklearn.naive_bayes import GaussianNB\n",
    "\n",
    "# USING BOW \n",
    "clf_bow = GaussianNB().fit(xtrain_bow, ytrain)  # fitting \n",
    "prediction_bow = clf_bow.predict(xtest_bow)  # predictions\n",
    "\n",
    "# USINGN TFIDF \n",
    "clf_tf = GaussianNB().fit(xtrain_tf, ytrain)\n",
    "prediction_tf = clf_tf.predict(xtest_tf)"
   ]
  },
  {
   "cell_type": "markdown",
   "id": "fX6o5fjd30-C",
   "metadata": {
    "id": "fX6o5fjd30-C"
   },
   "source": [
    "# ***Building KNN  model***"
   ]
  },
  {
   "cell_type": "code",
   "execution_count": 120,
   "id": "aYbUj4049-Im",
   "metadata": {
    "id": "aYbUj4049-Im"
   },
   "outputs": [],
   "source": [
    "from sklearn.neighbors import KNeighborsClassifier"
   ]
  },
  {
   "cell_type": "code",
   "execution_count": 121,
   "id": "hKE_qrk23__s",
   "metadata": {
    "id": "hKE_qrk23__s"
   },
   "outputs": [],
   "source": [
    "knn = KNeighborsClassifier(n_neighbors=2000)\n",
    "knn.fit(xtrain_bow,ytrain)\n",
    "pred_train = knn.predict(xtrain_bow)\n",
    "pred_test = knn.predict(xtest_bow)"
   ]
  },
  {
   "cell_type": "markdown",
   "id": "QskVPqFX_TaQ",
   "metadata": {
    "id": "QskVPqFX_TaQ"
   },
   "source": [
    "# ***Building Logistic regression model***"
   ]
  },
  {
   "cell_type": "code",
   "execution_count": 122,
   "id": "0fobk6Qm4JYc",
   "metadata": {
    "id": "0fobk6Qm4JYc"
   },
   "outputs": [],
   "source": [
    "from sklearn.linear_model import LogisticRegression\n"
   ]
  },
  {
   "cell_type": "code",
   "execution_count": 123,
   "id": "816c6341",
   "metadata": {
    "colab": {
     "base_uri": "https://localhost:8080/"
    },
    "execution": {
     "iopub.execute_input": "2022-06-15T01:49:45.122528Z",
     "iopub.status.busy": "2022-06-15T01:49:45.122090Z",
     "iopub.status.idle": "2022-06-15T01:49:45.142274Z",
     "shell.execute_reply": "2022-06-15T01:49:45.141324Z"
    },
    "id": "816c6341",
    "outputId": "419c1da6-e068-48db-e6bb-3b84b2cf7048",
    "papermill": {
     "duration": 0.048397,
     "end_time": "2022-06-15T01:49:45.144372",
     "exception": false,
     "start_time": "2022-06-15T01:49:45.095975",
     "status": "completed"
    },
    "tags": []
   },
   "outputs": [
    {
     "name": "stdout",
     "output_type": "stream",
     "text": [
      "Confusion_matrix \n",
      " [[ 46  29]\n",
      " [262 608]]\n",
      "\n",
      "Accuracy: 0.692063492063492\n",
      "\n",
      "classification_report\n",
      "\n",
      "              precision    recall  f1-score   support\n",
      "\n",
      "           0       0.15      0.61      0.24        75\n",
      "           1       0.95      0.70      0.81       870\n",
      "\n",
      "    accuracy                           0.69       945\n",
      "   macro avg       0.55      0.66      0.52       945\n",
      "weighted avg       0.89      0.69      0.76       945\n",
      "\n"
     ]
    }
   ],
   "source": [
    "# let's check our model! \n",
    "from sklearn.metrics import classification_report, confusion_matrix, accuracy_score \n",
    "\n",
    "def metrics(prediction, actual): \n",
    "    print('Confusion_matrix \\n', confusion_matrix(actual, prediction))\n",
    "    print('\\nAccuracy:', accuracy_score(actual, prediction))\n",
    "    print('\\nclassification_report\\n')\n",
    "    print(classification_report(actual, prediction))\n",
    "    \n",
    "    \n",
    "metrics(prediction_bow, ytest)"
   ]
  },
  {
   "cell_type": "code",
   "execution_count": 98,
   "id": "1ce74482",
   "metadata": {
    "colab": {
     "base_uri": "https://localhost:8080/"
    },
    "execution": {
     "iopub.execute_input": "2022-06-15T01:49:45.191530Z",
     "iopub.status.busy": "2022-06-15T01:49:45.190867Z",
     "iopub.status.idle": "2022-06-15T01:49:45.209396Z",
     "shell.execute_reply": "2022-06-15T01:49:45.208329Z"
    },
    "id": "1ce74482",
    "outputId": "20c796de-50a5-4bb5-854f-770a21f33e29",
    "papermill": {
     "duration": 0.044806,
     "end_time": "2022-06-15T01:49:45.211799",
     "exception": false,
     "start_time": "2022-06-15T01:49:45.166993",
     "status": "completed"
    },
    "tags": []
   },
   "outputs": [
    {
     "name": "stdout",
     "output_type": "stream",
     "text": [
      "Confusion_matrix \n",
      " [[ 36  37]\n",
      " [280 592]]\n",
      "\n",
      "Accuracy: 0.6645502645502646\n",
      "\n",
      "classification_report\n",
      "\n",
      "              precision    recall  f1-score   support\n",
      "\n",
      "           0       0.11      0.49      0.19        73\n",
      "           1       0.94      0.68      0.79       872\n",
      "\n",
      "    accuracy                           0.66       945\n",
      "   macro avg       0.53      0.59      0.49       945\n",
      "weighted avg       0.88      0.66      0.74       945\n",
      "\n"
     ]
    }
   ],
   "source": [
    "metrics(prediction_tf, ytest)"
   ]
  },
  {
   "cell_type": "code",
   "execution_count": null,
   "id": "14423a2b",
   "metadata": {},
   "outputs": [],
   "source": []
  },
  {
   "cell_type": "code",
   "execution_count": null,
   "id": "bac1ac2d",
   "metadata": {},
   "outputs": [],
   "source": []
  },
  {
   "cell_type": "code",
   "execution_count": null,
   "id": "7772b117",
   "metadata": {},
   "outputs": [],
   "source": []
  }
 ],
 "metadata": {
  "colab": {
   "provenance": []
  },
  "kernelspec": {
   "display_name": "Python 3 (ipykernel)",
   "language": "python",
   "name": "python3"
  },
  "language_info": {
   "codemirror_mode": {
    "name": "ipython",
    "version": 3
   },
   "file_extension": ".py",
   "mimetype": "text/x-python",
   "name": "python",
   "nbconvert_exporter": "python",
   "pygments_lexer": "ipython3",
   "version": "3.10.9"
  },
  "papermill": {
   "default_parameters": {},
   "duration": 92.706686,
   "end_time": "2022-06-15T01:49:47.970432",
   "environment_variables": {},
   "exception": null,
   "input_path": "__notebook__.ipynb",
   "output_path": "__notebook__.ipynb",
   "parameters": {},
   "start_time": "2022-06-15T01:48:15.263746",
   "version": "2.3.4"
  }
 },
 "nbformat": 4,
 "nbformat_minor": 5
}
